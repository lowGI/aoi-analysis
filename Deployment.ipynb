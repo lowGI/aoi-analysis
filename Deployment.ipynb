{
 "cells": [
  {
   "cell_type": "markdown",
   "id": "929df3df",
   "metadata": {},
   "source": [
    "# MC1 and MC2 Deployment"
   ]
  },
  {
   "cell_type": "markdown",
   "id": "294be8a1",
   "metadata": {},
   "source": [
    "##### *classification report is underneath:"
   ]
  },
  {
   "cell_type": "code",
   "execution_count": 1,
   "id": "b132b8e3",
   "metadata": {},
   "outputs": [],
   "source": [
    "#libraries\n",
    "import pandas as pd\n",
    "import numpy as np\n",
    "from tkinter import *\n",
    "from PIL import ImageTk,Image\n",
    "from sklearn.model_selection import train_test_split\n",
    "from sklearn.ensemble import RandomForestClassifier\n",
    "from sklearn.metrics import classification_report"
   ]
  },
  {
   "cell_type": "markdown",
   "id": "c7a7b949",
   "metadata": {},
   "source": [
    "### MC1 final model"
   ]
  },
  {
   "cell_type": "code",
   "execution_count": 2,
   "id": "12ffce92",
   "metadata": {},
   "outputs": [
    {
     "data": {
      "text/plain": [
       "RandomForestClassifier(max_depth=100, n_estimators=400)"
      ]
     },
     "execution_count": 2,
     "metadata": {},
     "output_type": "execute_result"
    }
   ],
   "source": [
    "#we use rf with dataset 2\n",
    "dataset2 = pd.read_csv('MC1_Datasets\\Dataset_2.csv') \n",
    "#train beforehand\n",
    "def mc1_split_dataset(train_size,test_size,random_state):\n",
    "    #only for dataset 2\n",
    "    X = dataset2.iloc[:,1:-1]\n",
    "    y = dataset2.iloc[:,-1]\n",
    "    X_train,X_test,y_train,y_test = train_test_split(X, y, train_size=train_size, test_size=test_size,\n",
    "                                                     random_state=random_state)\n",
    "    \n",
    "    return X_train,X_test,y_train,y_test\n",
    "\n",
    "mc1_model = RandomForestClassifier(criterion='gini',max_depth=100,max_features='auto',n_estimators=400)\n",
    "mc1_X_train,mc1_X_test,mc1_y_train,mc1_y_test = mc1_split_dataset(0.8,0.2,42)\n",
    "mc1_model.fit(mc1_X_train,mc1_y_train)"
   ]
  },
  {
   "cell_type": "markdown",
   "id": "85938a06",
   "metadata": {},
   "source": [
    "### MC2 final model"
   ]
  },
  {
   "cell_type": "code",
   "execution_count": 3,
   "id": "c0060868",
   "metadata": {
    "scrolled": true
   },
   "outputs": [
    {
     "data": {
      "text/plain": [
       "RandomForestClassifier(max_depth=100, max_features=2)"
      ]
     },
     "execution_count": 3,
     "metadata": {},
     "output_type": "execute_result"
    }
   ],
   "source": [
    "#we use rf with dataset 1\n",
    "dataset1 = pd.read_csv('MC2_Datasets\\Dataset_1.csv') \n",
    "\n",
    "#train beforehand\n",
    "def mc2_split_dataset(train_size,test_size,random_state):\n",
    "    #only for dataset 1\n",
    "    X = dataset1.iloc[:,1:-1]\n",
    "    y = dataset1.iloc[:,-1]\n",
    "    X_train,X_test,y_train,y_test = train_test_split(X, y, train_size=train_size, test_size=test_size,\n",
    "                                                     random_state=random_state)\n",
    "    \n",
    "    return X_train,X_test,y_train,y_test\n",
    "\n",
    "mc2_model = RandomForestClassifier(max_depth=100, max_features=2)\n",
    "mc2_X_train,mc2_X_test,mc2_y_train,mc2_y_test = mc2_split_dataset(0.8,0.2,42)\n",
    "mc2_model.fit(mc2_X_train,mc2_y_train)"
   ]
  },
  {
   "cell_type": "markdown",
   "id": "0e695e39",
   "metadata": {},
   "source": [
    "## Deployment GUI system"
   ]
  },
  {
   "cell_type": "code",
   "execution_count": 6,
   "id": "22b63caf",
   "metadata": {},
   "outputs": [],
   "source": [
    "#predict machine result\n",
    "\n",
    "# creates a Tk() object\n",
    "mainWindow = Tk()\n",
    "mainWindow.title(\"Hotayi Electronic (M) 2D AOI\")\n",
    "# sets the geometry of main\n",
    "# root window\n",
    "mainWindow.geometry(\"690x770\")\n",
    "\n",
    "#MC 1\n",
    "#-----------------------------------------------------------------------------------------------------#\n",
    "def inputMC1():\n",
    "    #window settings\n",
    "    mc1Window1 = Toplevel(mainWindow)\n",
    "    mc1Window1.title(\"PA05-1901 (MC1)\")\n",
    "    mc1Window1.geometry(\"500x500\")\n",
    "    # A Label widget to show in toplevel\n",
    "    #label1 = Label(mc1Window1,text =\"Please fill in the values for each point\")\n",
    "    #label1.pack()\n",
    "\n",
    "    #point 1\n",
    "    label1 = Label(mc1Window1,text =\"\\n(um)Point1\",font=(\"Arial\",15))\n",
    "    label1.pack(pady=10)\n",
    "    p1 = Entry(mc1Window1,width=15,borderwidth=4,font=(\"Arial\",18),justify=\"center\")\n",
    "    p1.pack()\n",
    "\n",
    "    #point 2\n",
    "    label2 = Label(mc1Window1,text =\"(um)Point2\",font=(\"Arial\",15))\n",
    "    label2.pack(pady=10)\n",
    "    p2 = Entry(mc1Window1,width=15,borderwidth=4,font=(\"Arial\",18),justify=\"center\")\n",
    "    p2.pack()\n",
    "\n",
    "    #point 3\n",
    "    label3 = Label(mc1Window1,text =\"(um)Point3\",font=(\"Arial\",15))\n",
    "    label3.pack(pady=10)\n",
    "    p3 = Entry(mc1Window1,width=15,borderwidth=4,font=(\"Arial\",18),justify=\"center\")\n",
    "    p3.pack()\n",
    "\n",
    "    #point 4\n",
    "    label4 = Label(mc1Window1,text =\"(um)Point4\",font=(\"Arial\",15))\n",
    "    label4.pack(pady=10)\n",
    "    p4 = Entry(mc1Window1,width=15,borderwidth=4,font=(\"Arial\",18),justify=\"center\")\n",
    "    p4.pack()\n",
    "\n",
    "    #dummy2 = Label(mc1Window1,text=\"\\n\")\n",
    "    #dummy2.pack()\n",
    "\n",
    "    submit_btn = Button(mc1Window1,text=\"Submit\",font=(\"Arial\",15),\n",
    "                         border=5,width=10,command=lambda:predictMC1(mc1Window1,p1,p2,p3,p4))\n",
    "    submit_btn.pack(pady=20)\n",
    "    \n",
    "    \n",
    "def predictMC1(mc1Window1,p1,p2,p3,p4):\n",
    "    #get p1,p2,p3,p4\n",
    "    point1 = p1.get()\n",
    "    point2 = p2.get()\n",
    "    point3 = p3.get()\n",
    "    point4 = p4.get()\n",
    "\n",
    "    if not point1.isdigit():\n",
    "        point1 = 0\n",
    "    if not point2.isdigit():\n",
    "        point2 = 0\n",
    "    if not point3.isdigit():\n",
    "        point3 = 0\n",
    "    if not point4.isdigit():\n",
    "        point4 = 0\n",
    "        \n",
    "    #convert str to float\n",
    "    point1 = float(point1)\n",
    "    point2 = float(point2)\n",
    "    point3 = float(point3)\n",
    "    point4 = float(point4)\n",
    "    \n",
    "    #model predicting\n",
    "    prediction = mc1_model.predict([[point1,point2,point3,point4]])\n",
    "    \n",
    "    #window settings\n",
    "    mc1Window2 = Toplevel(mc1Window1)\n",
    "    mc1Window2.title(\"Machine result\")\n",
    "    mc1Window2.geometry(\"400x300\")\n",
    "    \n",
    "    label1 = Label(mc1Window2,text=\"\\n\\nMachine result\",font=(\"Arial\",18))\n",
    "    label1.pack()\n",
    "    \n",
    "    #display result:\n",
    "    if prediction == [1]:\n",
    "        result = 'OK'\n",
    "    else:\n",
    "        result = 'NG'\n",
    "        \n",
    "    label2 = Label(mc1Window2,text=result,font=(\"Arial bold\",30))\n",
    "    label2.pack()\n",
    "    \n",
    "#MC 2\n",
    "#-----------------------------------------------------------------------------------------------------#\n",
    "\n",
    "def inputMC2():\n",
    "    #window settings\n",
    "    mc2Window1 = Toplevel(mainWindow)\n",
    "    mc2Window1.title(\"PA05-1901 (MC2)\")\n",
    "    mc2Window1.geometry(\"500x500\")\n",
    "    # A Label widget to show in toplevel\n",
    "    #label1 = Label(mc1Window1,text =\"Please fill in the values for each point\")\n",
    "    #label1.pack()\n",
    "\n",
    "    #point 1\n",
    "    label1 = Label(mc2Window1,text =\"\\n(um)Point1\",font=(\"Arial\",15))\n",
    "    label1.pack(pady=10)\n",
    "    p1 = Entry(mc2Window1,width=15,borderwidth=4,font=(\"Arial\",18),justify=\"center\")\n",
    "    p1.pack()\n",
    "\n",
    "    #point 2\n",
    "    label2 = Label(mc2Window1,text =\"(um)Point2\",font=(\"Arial\",15))\n",
    "    label2.pack(pady=10)\n",
    "    p2 = Entry(mc2Window1,width=15,borderwidth=4,font=(\"Arial\",18),justify=\"center\")\n",
    "    p2.pack()\n",
    "\n",
    "    #point 3\n",
    "    label3 = Label(mc2Window1,text =\"(um)Point3\",font=(\"Arial\",15))\n",
    "    label3.pack(pady=10)\n",
    "    p3 = Entry(mc2Window1,width=15,borderwidth=4,font=(\"Arial\",18),justify=\"center\")\n",
    "    p3.pack()\n",
    "\n",
    "    #point 4\n",
    "    label4 = Label(mc2Window1,text =\"(um)Point4\",font=(\"Arial\",15))\n",
    "    label4.pack(pady=10)\n",
    "    p4 = Entry(mc2Window1,width=15,borderwidth=4,font=(\"Arial\",18),justify=\"center\")\n",
    "    p4.pack()\n",
    "\n",
    "    #dummy2 = Label(mc1Window1,text=\"\\n\")\n",
    "    #dummy2.pack()\n",
    "\n",
    "    submit_btn = Button(mc2Window1,text=\"Submit\",font=(\"Arial\",15),\n",
    "                         border=5,width=10,command=lambda:predictMC2(mc2Window1,p1,p2,p3,p4))\n",
    "    submit_btn.pack(pady=20)\n",
    "    \n",
    "    \n",
    "def predictMC2(mc2Window1,p1,p2,p3,p4):\n",
    "    #get p1,p2,p3,p4\n",
    "    point1 = p1.get()\n",
    "    point2 = p2.get()\n",
    "    point3 = p3.get()\n",
    "    point4 = p4.get()\n",
    "\n",
    "    if not point1.isdigit():\n",
    "        point1 = 0\n",
    "    if not point2.isdigit():\n",
    "        point2 = 0\n",
    "    if not point3.isdigit():\n",
    "        point3 = 0\n",
    "    if not point4.isdigit():\n",
    "        point4 = 0\n",
    "        \n",
    "    #convert str to float\n",
    "    point1 = float(point1)\n",
    "    point2 = float(point2)\n",
    "    point3 = float(point3)\n",
    "    point4 = float(point4)\n",
    "    \n",
    "    #model predicting\n",
    "    prediction = mc2_model.predict([[point1,point2,point3,point4]])\n",
    "    \n",
    "    #window settings\n",
    "    mc2Window2 = Toplevel(mc2Window1)\n",
    "    mc2Window2.title(\"Machine result\")\n",
    "    mc2Window2.geometry(\"400x300\")\n",
    "    \n",
    "    label1 = Label(mc2Window2,text=\"\\n\\nMachine result\",font=(\"Arial\",18))\n",
    "    label1.pack()\n",
    "    \n",
    "    #display result:\n",
    "    if prediction == [1]:\n",
    "        result = 'OK'\n",
    "    else:\n",
    "        result = 'NG'\n",
    "        \n",
    "    label2 = Label(mc2Window2,text=result,font=(\"Arial bold\",30))\n",
    "    label2.pack()\n",
    "\n",
    "\n",
    "bg = PhotoImage(file=\"pcb.png\")\n",
    "label0 = Label(mainWindow,image=bg)\n",
    "label0.pack(pady=10)\n",
    "label1 = Label(mainWindow,text=\"Hotayi Electronic (M)\\n2D Automated Optical Inspection\",font=(\"Arial bold\",28))\n",
    "label1.pack(pady=10)\n",
    "label2 = Label(mainWindow,text=\"By JAL\\n\",font=(\"Arial italic\",18))\n",
    "label2.pack()\n",
    "btn1 = Button(mainWindow,text=\"PA05-1901 (MC1)\",command=inputMC1,width=26,font=(\"Arial\",22),border=6,pady=20)\n",
    "btn1.pack(pady=10)\n",
    "#dummy1 = Label(mainWindow,text=\"\\n\")\n",
    "#dummy1.pack()\n",
    "btn2 = Button(mainWindow,text=\"PA05-1901 (MC2)\",command=inputMC2,width=26,font=(\"Arial\",22),border=6,pady=20)\n",
    "btn2.pack(pady=13)\n",
    "\n",
    " \n",
    "# mainloop, runs infinitely\n",
    "mainWindow.mainloop()\n",
    "\n"
   ]
  },
  {
   "cell_type": "markdown",
   "id": "f6397da0",
   "metadata": {},
   "source": [
    "## Classification report"
   ]
  },
  {
   "cell_type": "code",
   "execution_count": 5,
   "id": "f0c62e8e",
   "metadata": {
    "scrolled": true
   },
   "outputs": [
    {
     "name": "stdout",
     "output_type": "stream",
     "text": [
      "              precision    recall  f1-score   support\n",
      "\n",
      "           0       0.97      0.95      0.96      4033\n",
      "           1       1.00      1.00      1.00     53422\n",
      "\n",
      "    accuracy                           0.99     57455\n",
      "   macro avg       0.98      0.97      0.98     57455\n",
      "weighted avg       0.99      0.99      0.99     57455\n",
      "\n"
     ]
    }
   ],
   "source": [
    "mc1_y_pred = mc1_model.predict(mc1_X_test)\n",
    "print(classification_report(mc1_y_test,mc1_y_pred))"
   ]
  },
  {
   "cell_type": "code",
   "execution_count": 6,
   "id": "a9b0c6e9",
   "metadata": {},
   "outputs": [
    {
     "name": "stdout",
     "output_type": "stream",
     "text": [
      "              precision    recall  f1-score   support\n",
      "\n",
      "           0       0.89      0.36      0.51       899\n",
      "           1       0.98      1.00      0.99     36155\n",
      "\n",
      "    accuracy                           0.98     37054\n",
      "   macro avg       0.94      0.68      0.75     37054\n",
      "weighted avg       0.98      0.98      0.98     37054\n",
      "\n"
     ]
    }
   ],
   "source": [
    "mc2_y_pred = mc2_model.predict(mc2_X_test)\n",
    "print(classification_report(mc2_y_test,mc2_y_pred))"
   ]
  }
 ],
 "metadata": {
  "kernelspec": {
   "display_name": "Python 3",
   "language": "python",
   "name": "python3"
  },
  "language_info": {
   "codemirror_mode": {
    "name": "ipython",
    "version": 3
   },
   "file_extension": ".py",
   "mimetype": "text/x-python",
   "name": "python",
   "nbconvert_exporter": "python",
   "pygments_lexer": "ipython3",
   "version": "3.9.1"
  }
 },
 "nbformat": 4,
 "nbformat_minor": 5
}
